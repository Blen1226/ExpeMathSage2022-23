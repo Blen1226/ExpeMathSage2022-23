{
 "cells": [
  {
   "cell_type": "markdown",
   "id": "concerned-convertible",
   "metadata": {},
   "source": [
    "# Report 4\n",
    "24 oct 2022"
   ]
  },
  {
   "cell_type": "markdown",
   "id": "russian-desert",
   "metadata": {},
   "source": [
    "# Sum of squares of two numbers, $n = a^2 + b^2$ , for $a > 0$ and $b > 0.$"
   ]
  },
  {
   "cell_type": "markdown",
   "id": "dense-honolulu",
   "metadata": {},
   "source": [
    " But both $a$ and $b$ cant be $0$ at the same time.\n",
    "Which positive integers can be written as the sum of two squares  and which ones can not?\n",
    "- In this question i try to make a conjucture by listing some values. But i cant get the the general formula to fix it. \n",
    "Using sage i simplify in the following way."
   ]
  },
  {
   "cell_type": "code",
   "execution_count": null,
   "id": "opposite-ghost",
   "metadata": {},
   "outputs": [],
   "source": [
    "import math as m\n",
    "X = []\n",
    "for a in range(0,10):\n",
    "    square_number = a *a  #compute the square of a\n",
    "    X.append(square_number)  # append squared values\n",
    "print(X)\n",
    "dictionary = {}\n",
    "n = 1\n",
    "store = []  #store the squared values\n",
    "while n <= 100:\n",
    "    for a in X:\n",
    "        if a < n:\n",
    "            store.append(a) #append stored values\n",
    "            \n",
    "    for x in store:\n",
    "        for y in store:\n",
    "            if  (x + y) == n:\n",
    "                dictionary [n] = (x,y)\n",
    "    store = []\n",
    "    n += 1\n",
    "print(dictionary)\n"
   ]
  },
  {
   "cell_type": "markdown",
   "id": "former-confidentiality",
   "metadata": {},
   "source": [
    "# The gcd of two numbers"
   ]
  },
  {
   "cell_type": "code",
   "execution_count": null,
   "id": "proprietary-ireland",
   "metadata": {},
   "outputs": [],
   "source": [
    "import numpy as np\n",
    "m = int(input(\"enter m = \")) # to enter the number\n",
    "n =int(input(\"enter n = \")) # to enter the number\n",
    "gcd(m,n) # The gcd of two numbers m and n"
   ]
  },
  {
   "cell_type": "markdown",
   "id": "lined-slope",
   "metadata": {},
   "source": [
    "# The gcd of three numbers"
   ]
  },
  {
   "cell_type": "code",
   "execution_count": null,
   "id": "falling-island",
   "metadata": {},
   "outputs": [],
   "source": [
    "import numpy as np\n",
    "m = int(input(\"enter m = \")) # to enter the number\n",
    "n =int(input(\"enter n = \")) # to enter the number\n",
    "p =int(input(\"enter p = \"))  # to enter the number\n",
    "q = gcd(m,n)   # The gcd of two numbers m and n\n",
    "gcd(p,q)  # The gcd of two numbers q = gcd(m,n) and p"
   ]
  },
  {
   "cell_type": "code",
   "execution_count": null,
   "id": "economic-majority",
   "metadata": {},
   "outputs": [],
   "source": []
  }
 ],
 "metadata": {
  "kernelspec": {
   "display_name": "SageMath 9.2",
   "language": "sage",
   "name": "sagemath"
  },
  "language_info": {
   "codemirror_mode": {
    "name": "ipython",
    "version": 3
   },
   "file_extension": ".py",
   "mimetype": "text/x-python",
   "name": "python",
   "nbconvert_exporter": "python",
   "pygments_lexer": "ipython3",
   "version": "3.9.2"
  }
 },
 "nbformat": 4,
 "nbformat_minor": 5
}
