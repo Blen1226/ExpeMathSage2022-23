{
 "cells": [
  {
   "cell_type": "markdown",
   "id": "extra-musician",
   "metadata": {},
   "source": [
    "# Report 5                                      oct 25 2022"
   ]
  },
  {
   "cell_type": "markdown",
   "id": "adjacent-function",
   "metadata": {},
   "source": [
    "1, Which positive integers can be written as a sum of squares of its factors?"
   ]
  },
  {
   "cell_type": "code",
   "execution_count": null,
   "id": "according-operation",
   "metadata": {},
   "outputs": [],
   "source": [
    "high_number = int(input(\"n = \"))\n",
    "\n",
    "\n",
    "dict_factor = {}\n",
    "\n",
    "\n",
    "number = 1\n",
    "\n",
    "\n",
    "while number <= high_number:\n",
    "    \n",
    "    empty_list = []\n",
    "    for a in range(1,number+1):\n",
    "        for b in range(1,number+1):\n",
    "            if number == (a**2) + (b**2):\n",
    "                try:\n",
    "                    if number % a == 0 and number % b == 0:\n",
    "                        empty_list.append((a,b))\n",
    "                        dict_factor[number] = empty_list\n",
    "                except:\n",
    "                    print(\"0 is not factor of {}\".format(number))\n",
    "    number += 1\n",
    "print(dict_factor)"
   ]
  },
  {
   "cell_type": "markdown",
   "id": "portable-sunset",
   "metadata": {},
   "source": [
    "Can there be a formula for expressing n as the sum of 2 positive square number?"
   ]
  },
  {
   "cell_type": "markdown",
   "id": "accessory-entity",
   "metadata": {},
   "source": [
    "There is no another than $a^2  + b^2 = n$"
   ]
  },
  {
   "cell_type": "markdown",
   "id": "instrumental-saturday",
   "metadata": {},
   "source": [
    "Which numbers can be written as a sum of squares of two prime numbers?"
   ]
  },
  {
   "cell_type": "code",
   "execution_count": null,
   "id": "naughty-monte",
   "metadata": {},
   "outputs": [],
   "source": [
    "for i in range(100):\n",
    "    for j in range(100):\n",
    "        if is_prime(i) and is_prime(j):\n",
    "            x = i**2 + j**2\n",
    "            print(x)\n",
    "        else:\n",
    "            continue"
   ]
  },
  {
   "cell_type": "markdown",
   "id": "hollywood-satin",
   "metadata": {},
   "source": [
    "These numbers that can be written as a sum of squares of two squares, are they even or odd?"
   ]
  },
  {
   "cell_type": "markdown",
   "id": "junior-greeting",
   "metadata": {},
   "source": [
    "Yes, they are both even and b\n",
    "oth  odd."
   ]
  },
  {
   "cell_type": "markdown",
   "id": "qualified-blink",
   "metadata": {},
   "source": [
    "Is the sum of squares even or odd?"
   ]
  },
  {
   "cell_type": "code",
   "execution_count": null,
   "id": "fiscal-behalf",
   "metadata": {},
   "outputs": [],
   "source": [
    "import math as m\n",
    "X = []\n",
    "for a in range(0,10):\n",
    "    square_number = a *a  #compute the square of a\n",
    "    X.append(square_number)  # append squared values\n",
    "print(X)\n",
    "dictionary = {}\n",
    "n = 1\n",
    "store = []  #store the squared values\n",
    "while n <= 100:\n",
    "    for a in X:\n",
    "        if a < n:\n",
    "            store.append(a) #append stored values\n",
    "            \n",
    "    for x in store:\n",
    "        for y in store:\n",
    "            if  (x + y) == n:\n",
    "                dictionary [n] = (x,y)\n",
    "    store = []\n",
    "    n += 1\n",
    "print(dictionary)"
   ]
  },
  {
   "cell_type": "markdown",
   "id": "baking-constitution",
   "metadata": {},
   "source": [
    "From the above we observe that the sum of some square numbers are even and some squares are odd."
   ]
  },
  {
   "cell_type": "markdown",
   "id": "foster-purpose",
   "metadata": {},
   "source": [
    "Given $a$ and $b$ are prime, is the sum of their squares, $a^2 + b^2$ prime?"
   ]
  },
  {
   "cell_type": "markdown",
   "id": "located-spirit",
   "metadata": {},
   "source": [
    "Not always.\n",
    "For instance, $2^2 + 3^2 = 13$ ,all a, b, n are prime.\n",
    "  But  $3^2 + 5^2 = 34$ , a and b are prime.But n is not prime.\n",
    " Therefore not always.\n"
   ]
  },
  {
   "cell_type": "markdown",
   "id": "arabic-beverage",
   "metadata": {},
   "source": [
    "Can the squares of numbers be written in any other form aside from $x^2+0^2$?"
   ]
  },
  {
   "cell_type": "markdown",
   "id": "empirical-protocol",
   "metadata": {},
   "source": [
    "Yes, we can write in other form aside form $x^2 + 0^2$.\n",
    "for instance, $100 = 10 ^2 + 0^2$ and $6^2 + 8^2$"
   ]
  },
  {
   "cell_type": "markdown",
   "id": "saved-brick",
   "metadata": {},
   "source": [
    "Is there more than one way to get the $n$, and if there is, what is the relationship between the $a,b$ and $n$?"
   ]
  },
  {
   "cell_type": "markdown",
   "id": "likely-style",
   "metadata": {},
   "source": [
    "Yes there is. The relationship is between them is n always greater than a and b and from a and b the one must be less than the other."
   ]
  }
 ],
 "metadata": {
  "kernelspec": {
   "display_name": "SageMath 9.2",
   "language": "sage",
   "name": "sagemath"
  },
  "language_info": {
   "codemirror_mode": {
    "name": "ipython",
    "version": 3
   },
   "file_extension": ".py",
   "mimetype": "text/x-python",
   "name": "python",
   "nbconvert_exporter": "python",
   "pygments_lexer": "ipython3",
   "version": "3.9.2"
  }
 },
 "nbformat": 4,
 "nbformat_minor": 5
}
