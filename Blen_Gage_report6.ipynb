{
 "cells": [
  {
   "cell_type": "markdown",
   "metadata": {},
   "source": [
    "<img src=\"./images/aims-za-logo.jpeg\" alt=\"drawing\" style=\"width:400px;\"/>\n",
    "<h1 style=\"text-align: center;\"><a title=\"EMS-AIMS-ZA-2022\" href=\"https://course-website\">Experimental Mathematics Using SageMath — AIMS-ZA-2022-23</a></h1>\n",
    "\n",
    "\n",
    "## Instructor: \n",
    "\n",
    "* **Yaé Gaba**"
   ]
  },
  {
   "cell_type": "markdown",
   "metadata": {},
   "source": [
    "## Day 07 — New Experiments: Sum of Squares and Plotting <a class=\"anchor\" id=\"new-experiment-sum-of-squares-and-plotting\"></a>\n",
    "\n",
    "[comment]: <> (<h2 style=\"text-align: left;\">Day 02 — Introduction to <a title=\"SageMath\"href=\"http://www.sagemath.org/\"><em>SageMath</em></a>: A Mathematics Software for All</h2>)\n",
    "\n",
    "\n",
    "\n",
    "\n",
    "The outline of the this notebook is as follows:"
   ]
  },
  {
   "cell_type": "markdown",
   "metadata": {},
   "source": [
    "## Table of Contents: <a class=\"anchor\" id=\"day-06-toc\"></a> \n",
    "[comment]: <> (New Experiment — Sum of Squares)\n",
    "* [ ] [<font color=blue>New Experiment — Sum of Squares </font>](#new-experiment-sum-of-squares)\n",
    "    * [<font color=blue>Exploring Questions</font>](#exploring-questions)\n",
    "       * [<font color=blue>Exploration 1</font>](#exploration-1)\n",
    "       * [<font color=blue>Exploration 2</font>](#exploration-2)\n",
    "       * [<font color=blue>Exploration 3</font>](#exploration-3)\n",
    "       * [<font color=blue>Exploration 4</font>](#exploration-4)\n",
    "       * [<font color=blue>Exploration 5</font>](#exploration-5)\n",
    "       * [<font color=blue>Exploration 6</font>](#exploration-6)\n",
    "       * [<font color=blue>Exploration 7</font>](#exploration-7)\n",
    "       * [<font color=blue>Exploration 8</font>](#exploration-8)\n",
    "       * [<font color=blue>Exploration 9</font>](#exploration-9)\n",
    "    * [<font color=blue>Congruences</font>](#congruences) \n",
    "       * [<font color=blue>Exploration 10</font>](#exploration-10)\n",
    "[comment]: <> (More Plotting and Graphics in Two Dimensions)\n",
    "* [ ] [<font color=blue>More Plotting and Graphics in Two Dimensions</font>](#more-plotting-and-graphics-in-two-dimensions)"
   ]
  },
  {
   "cell_type": "markdown",
   "metadata": {},
   "source": [
    "## New Experiment — Sum of Squares <a class=\"anchor\" id=\"new-experiment-sum-of-squares\"></a>\n",
    "\n",
    "I hope you had a wonderful time during the holiday break. In today's lecture, we will revisit the problem on sum of squares of integers, which we began to explore just before the holiday break. The problems is as follows: \n",
    "\n",
    "Question: Given that $a$ and $b$ are integers, what integers $n$ can be written in the form $n=a^2+b^2$?\n",
    "\n",
    "Here are a cases that do and do not work.\n",
    "\n",
    "   * $2 = 1^2+1^2$ works;\n",
    "   * $3$ does not work, since we only allow integers.  $1+1$ is too small, $1^2+2^2=5$ is too big;\n",
    "   * $4$ actually <em>does</em> work, because we allow $4 = 0^2+2^2$.  (That's just one of our rules; you could play a different game if you wanted.);\n",
    "   * That means $1=1^2+0^2$ works.\n",
    "   * $5$ works.\n",
    "\n",
    "And so forth. In our last lecture, we were able to pose the following questions relating to the sum of squares: \n",
    "\n",
    "   * Which positive integers can be written as a sum of two squares?\n",
    "   * Which ones cannot?\n",
    "   * Which positive integers can be written as a sum of squares of it factors?\n",
    "   * Can there be a formula for expressing $n$ as the sum of two positive square numbers? \n",
    "   * Which numbers can be written as a sum of squares of 2 prime numbers?\n",
    "   * These numbers that can be written as a sum of two squares, are they odd or even? \n",
    "   * Is the sum of squares even or odd?\n",
    "   * Given $a$ and $b$ are prime, is the sum of their squares, $a^{2}+b^{2}$ prime?\n",
    "   * Can the square roots of numbers be written in any other form aside from $x^{2} + 0^{2}$? \n",
    "   * Is there more than one way to get the $n$, and if they is, what's the relationship between the $a$, $b$ and $n$.\n",
    "   \n",
    "\n",
    "In our last lecture, we started by first tried working with pens and paper. We tried by listing those positive integers $n$ ranging from $1$ to $50$ that can be written as a sum of squares and those that can not be written.  \n",
    "\n",
    "What possible *Python* buitin data structure(s) do you think will be best in storing the numbers that can be written?"
   ]
  },
  {
   "cell_type": "code",
   "execution_count": null,
   "metadata": {},
   "outputs": [],
   "source": [
    "my_list_database = [0, 1, 2, 4, 5]"
   ]
  },
  {
   "cell_type": "markdown",
   "metadata": {},
   "source": [
    "What if, in addition to the possible positive integers that can we can write as the sum of two squares, we also want to know the number of ways that they can be written. What *Python* builtin data structure(s) do you think will be suitable in this case?  \n",
    "\n",
    "Let us create a database of some of the numbers that can be written starting with those that we tried with pens and paper."
   ]
  },
  {
   "cell_type": "code",
   "execution_count": null,
   "metadata": {},
   "outputs": [],
   "source": [
    "number_of_ways = [1, 2, 1, 2, 2]"
   ]
  },
  {
   "cell_type": "code",
   "execution_count": null,
   "metadata": {},
   "outputs": [],
   "source": [
    "possible_database = list(zip(my_list_database, number_of_ways)); possible_database"
   ]
  },
  {
   "cell_type": "markdown",
   "metadata": {},
   "source": [
    "A more effective way is to use Python's dictionary data structure. If that is the case, then we could also have passed the Python variable `possible_database` to Python's `dict` function create dictionary object. That is,"
   ]
  },
  {
   "cell_type": "code",
   "execution_count": null,
   "metadata": {},
   "outputs": [],
   "source": [
    "dict(possible_database)"
   ]
  },
  {
   "cell_type": "markdown",
   "metadata": {},
   "source": [
    "Or we could also start everything with a dictionary and type in the data we want to collect. "
   ]
  },
  {
   "cell_type": "code",
   "execution_count": null,
   "metadata": {},
   "outputs": [],
   "source": [
    "sum_of_square_database = {0: [(0,0)], 1: [(1,0), (0,1)], 2:[(1,1)]}; sum_of_square_database"
   ]
  },
  {
   "cell_type": "markdown",
   "metadata": {},
   "source": [
    "We can update the dictionary object assigned to the Python variable `sum_of_square_database` as follows:"
   ]
  },
  {
   "cell_type": "code",
   "execution_count": null,
   "metadata": {},
   "outputs": [],
   "source": [
    "sum_of_square_database[4] = [(0,2), (2, 0)]"
   ]
  },
  {
   "cell_type": "code",
   "execution_count": null,
   "metadata": {},
   "outputs": [],
   "source": [
    "sum_of_square_database"
   ]
  },
  {
   "cell_type": "code",
   "execution_count": null,
   "metadata": {},
   "outputs": [],
   "source": [
    "sum_of_square_database[5] = [(1,2), (2, 1)]"
   ]
  },
  {
   "cell_type": "code",
   "execution_count": null,
   "metadata": {},
   "outputs": [],
   "source": [
    "sum_of_square_database"
   ]
  },
  {
   "cell_type": "code",
   "execution_count": null,
   "metadata": {},
   "outputs": [],
   "source": []
  },
  {
   "cell_type": "markdown",
   "metadata": {},
   "source": [
    "After a while you will want to think of an effective way of doing this by using some *Python* programming construct? What could be your possible effective solution? "
   ]
  },
  {
   "cell_type": "code",
   "execution_count": null,
   "metadata": {},
   "outputs": [],
   "source": [
    "sum_of_square_database = {}\n",
    "for a in range(20):\n",
    "    for b in range(20):\n",
    "        m = a^2 + b^2\n",
    "         "
   ]
  },
  {
   "cell_type": "code",
   "execution_count": null,
   "metadata": {},
   "outputs": [],
   "source": []
  },
  {
   "cell_type": "code",
   "execution_count": null,
   "metadata": {},
   "outputs": [],
   "source": []
  },
  {
   "cell_type": "code",
   "execution_count": null,
   "metadata": {},
   "outputs": [],
   "source": []
  },
  {
   "cell_type": "code",
   "execution_count": null,
   "metadata": {},
   "outputs": [],
   "source": []
  },
  {
   "cell_type": "markdown",
   "metadata": {},
   "source": [
    "Hopefully, by now you should have a fair amount of data in `sum_of_square_database`. Let us now begin exploring the questions we posed regarding the sum of two squares by querying the database we have created. Here are the list of questions we posed: \n",
    "\n",
    "   * Which positive integers can be written as a sum of two squares?\n",
    "   * Which ones cannot?\n",
    "   * Which positive integers can be written as a sum of squares of their factors?\n",
    "   * Can there be a formula for expressing $n$ as the sum of two positive square numbers? \n",
    "   * Which numbers can be written as a sum of squares of 2 prime numbers?\n",
    "   * These numbers that can be written as a sum of two squares, are they odd or even? \n",
    "   * Given $a$ and $b$ are prime, is the sum of their squares, $a^{2}+b^{2}$ prime?\n",
    "   * Can the square roots of numbers be written in any other form aside from $x^{2} + 0^{2}$? \n",
    "   * Is there more than one way to get the $n$, and if they is, what's the relationship between the $a$, $b$ and $n$.\n",
    "<hr>\n",
    "\n",
    "We also possed the following: \n",
    "\n",
    "   * Are there any special types of numbers that can be written?  (Or that cannot?)\n",
    "      * Primes\n",
    "      * even/odd, modulo 3, modulo 4, modulo 5, etc..\n",
    "      * A combination of the above\n",
    "\n",
    "\n"
   ]
  },
  {
   "cell_type": "markdown",
   "metadata": {},
   "source": [
    "### Exploring Questions <a class=\"anchor\" id=\"exploring-questions\"></a>\n",
    "\n",
    "The goal of this subsection is answer the first three questions that we possed concerning the sum of squares problems. You will learn what it means to query the database we have created. Let us begin with the first question. "
   ]
  },
  {
   "cell_type": "markdown",
   "metadata": {},
   "source": [
    "#### Exploration 1 <a class=\"anchor\" id=\"exploration-1\"></a>\n",
    "\n",
    "The question to explore is: \n",
    "\n",
    " * _Which positive integers can be written as a sum of two integer squares?_\n",
    "\n",
    "What will be a possible answer to this?"
   ]
  },
  {
   "cell_type": "code",
   "execution_count": 8,
   "metadata": {},
   "outputs": [
    {
     "data": {
      "text/plain": [
       "{}"
      ]
     },
     "execution_count": 8,
     "metadata": {},
     "output_type": "execute_result"
    }
   ],
   "source": [
    "sum_of_square_database"
   ]
  },
  {
   "cell_type": "code",
   "execution_count": 3,
   "metadata": {},
   "outputs": [
    {
     "name": "stdout",
     "output_type": "stream",
     "text": [
      "dict_keys([2, 5, 8, 10, 13, 17, 18, 20, 25, 26, 29, 32, 34, 37, 40, 41, 45, 50, 52, 53, 58, 61, 65, 68, 72, 73, 74, 80, 82, 85, 89, 90, 97, 98, 100])\n"
     ]
    }
   ],
   "source": [
    "import math as m\n",
    "X = []\n",
    "for a in range(0,10):\n",
    "    square_number = a *a  #compute the square of a\n",
    "    X.append(square_number)  # append squared values\n",
    "#print(X)\n",
    "dictionary = {}\n",
    "n = 1\n",
    "store = []  #store the squared values\n",
    "while n <= 100:\n",
    "    for a in X:\n",
    "        if a < n:\n",
    "            store.append(a) #append stored values\n",
    "            \n",
    "    for x in store:\n",
    "        for y in store:\n",
    "            if  (x + y) == n:\n",
    "                dictionary [n] = (x,y)\n",
    "    store = []\n",
    "    n += 1\n",
    "keys = dictionary.keys()\n",
    "print(keys)\n"
   ]
  },
  {
   "cell_type": "markdown",
   "metadata": {},
   "source": [
    "That seems to answer the question. However, I think there is more we can ask here. For example, Is there more to explore about these numbers? Is there anything common with them or a subset of them? What do you think we can do?  \n",
    "\n",
    "We may come back to this later."
   ]
  },
  {
   "cell_type": "code",
   "execution_count": null,
   "metadata": {},
   "outputs": [],
   "source": []
  },
  {
   "cell_type": "markdown",
   "metadata": {},
   "source": [
    "#### Exploration 2 <a class=\"anchor\" id=\"exploration-2\"></a>\n",
    "\n",
    "The question to explore is: \n",
    "\n",
    " * _Which positive numbers cannot be written as a sum of two integer squares?_\n",
    "\n",
    "What will be a possible answer to this? How would you encode this in Python in order to query the database `sum_of_square_database`?"
   ]
  },
  {
   "cell_type": "code",
   "execution_count": 5,
   "metadata": {},
   "outputs": [
    {
     "name": "stdout",
     "output_type": "stream",
     "text": [
      "[1, 3, 4, 6, 7, 9, 11, 12, 14, 15, 16, 19, 21, 22, 23, 24, 27, 28, 30, 31, 33, 35, 36, 38, 39, 42, 43, 44, 46, 47, 48, 49, 51, 54, 55, 56, 57, 59, 60, 62, 63, 64, 66, 67, 69, 70, 71, 75, 76, 77, 78, 79, 81, 83, 84, 86, 87, 88, 91, 92, 93, 94, 95, 96, 99]\n"
     ]
    }
   ],
   "source": [
    "list_a = []\n",
    "sum_a = 1\n",
    "while sum_a <=100:\n",
    "    if (sum_a) not in keys:\n",
    "        list_a.append(sum_a)\n",
    "    sum_a += 1\n",
    "print(list_a)"
   ]
  },
  {
   "cell_type": "markdown",
   "metadata": {},
   "source": [
    "Is there more to explore about these numbers? Is there anything common with them or a subset of them? What do you think we can do? \n",
    "\n",
    "We may come back to this later."
   ]
  },
  {
   "cell_type": "code",
   "execution_count": null,
   "metadata": {},
   "outputs": [],
   "source": []
  },
  {
   "cell_type": "markdown",
   "metadata": {},
   "source": [
    "#### Exploration 3 <a class=\"anchor\" id=\"exploration-3\"></a>\n",
    "\n",
    "The question to explore is: \n",
    "\n",
    " * _Which positive integers can be written as a sum of two integer squares of it factors?_\n",
    "\n",
    "In other words, among those positive integers $n$ can be written as $n = a^{2} + b^{2}$ with $a$ and $b$ as integers, which them are factors of $n$. That is, $a$ and $b$ both divides $n$.\n",
    "\n",
    "\n",
    "What will be a possible answer to this? How would you encode this in Python in order to query the database `sum_of_square_database`?"
   ]
  },
  {
   "cell_type": "code",
   "execution_count": 27,
   "metadata": {},
   "outputs": [
    {
     "name": "stdout",
     "output_type": "stream",
     "text": [
      "n = 80\n",
      "{2: [(1, 1)], 8: [(2, 2)], 18: [(3, 3)], 20: [(2, 4), (4, 2)], 32: [(4, 4)], 50: [(5, 5)], 72: [(6, 6)], 80: [(4, 8), (8, 4)]}\n"
     ]
    }
   ],
   "source": [
    "high_number = int(input(\"n = \"))\n",
    "\n",
    "\n",
    "dict_factor = {}\n",
    "\n",
    "\n",
    "number = 1\n",
    "\n",
    "\n",
    "while number <= high_number:\n",
    "    \n",
    "    empty_list = []\n",
    "    for a in range(1,number+1):\n",
    "        for b in range(1,number+1):\n",
    "            if number == (a**2) + (b**2):\n",
    "                try:\n",
    "                    if number % a == 0 and number % b == 0:\n",
    "                        empty_list.append((a,b))\n",
    "                        dict_factor[number] = empty_list\n",
    "                except:\n",
    "                    print(\"0 is not factor of {}\".format(number))\n",
    "    number += 1\n",
    "print(dict_factor)"
   ]
  },
  {
   "cell_type": "markdown",
   "metadata": {},
   "source": [
    "#### Exploration 4 <a class=\"anchor\" id=\"exploration-4\"></a>\n",
    "\n",
    "The question to explore is: \n",
    "\n",
    " * _Can there be a formula for expressing $n$ as the sum of two positive square numbers?_\n",
    "\n",
    "You may want to skip this for now."
   ]
  },
  {
   "cell_type": "markdown",
   "metadata": {},
   "source": [
    "#### Exploration 5 <a class=\"anchor\" id=\"exploration-5\"></a>\n",
    "\n",
    "The question to explore is: \n",
    "\n",
    " * _These numbers that can be written as a sum of two squares, are they odd or even?_"
   ]
  },
  {
   "cell_type": "code",
   "execution_count": 1,
   "metadata": {},
   "outputs": [
    {
     "name": "stdout",
     "output_type": "stream",
     "text": [
      "{'1': [(0, 1), (1, 1)], '2': [(0, 1), (1, 1)]}\n",
      "{'1': 'odd', '2': 'even'}\n",
      "{}\n"
     ]
    }
   ],
   "source": [
    "number = 1\n",
    "max_number = 100\n",
    "\n",
    "trial_dictionary = {}\n",
    "dictionary_number ={}\n",
    "dictionary_prime = {}\n",
    "\n",
    "\n",
    "i = 0\n",
    "List_2 = []\n",
    "while number <= max_number:\n",
    "    List =[]\n",
    "    List_2 = []\n",
    "    for x in range(0,max_number+1):\n",
    "        for y in range(0,max_number+1):\n",
    "            if (x*x + y*y)==number:\n",
    "                store = (x,y)\n",
    "                List.append(store)\n",
    "                trial_dictionary[str(number)] = List\n",
    "                if number%2 == 0:\n",
    "                    dictionary_number[str(number)] = \"even\"\n",
    "                elif number%2 == 1:\n",
    "                    dictionary_number[str(number)]= \"odd\"\n",
    "                if is_prime(x) and is_prime(y):\n",
    "                    prime = (x,y)\n",
    "                    List_2.append(prime)\n",
    "                    dictionary_prime[str(number)] = List_2 \n",
    "                    \n",
    "        number += 1\n",
    "    \n",
    "print(trial_dictionary)\n",
    "print(dictionary_number)\n",
    "print(dictionary_prime)\n",
    "\n"
   ]
  },
  {
   "cell_type": "markdown",
   "metadata": {},
   "source": [
    "#### Exploration 6 <a class=\"anchor\" id=\"exploration-6\"></a> \n",
    "\n",
    "The question to explore is: \n",
    "\n",
    " * _Given $a$ and $b$ are prime, is the sum of their squares, $a^{2}+b^{2}$ prime?_\n",
    " \n",
    "_Hint: You may want to use the SageMath function `is_prime`. Try and read the documentation so you know how to use it._"
   ]
  },
  {
   "cell_type": "code",
   "execution_count": 2,
   "metadata": {},
   "outputs": [
    {
     "name": "stdout",
     "output_type": "stream",
     "text": [
      "{'1': [(0, 1), (1, 1)], '2': [(0, 1), (1, 1)]}\n",
      "{'1': 'odd', '2': 'even'}\n",
      "{}\n"
     ]
    }
   ],
   "source": [
    "number = 1\n",
    "max_value = 100\n",
    "\n",
    "trial_dictionary= {}\n",
    "dictionary_number ={}\n",
    "dictionary_prime = {}\n",
    "\n",
    "\n",
    "i = 0\n",
    "List_2 = []\n",
    "while number <= max_value:\n",
    "    List =[]\n",
    "    List_2  = []\n",
    "    for x in range(0,max_value+1):\n",
    "        for y in range(0,max_value+1):\n",
    "            if (x*x + y*y)==number:\n",
    "                store = (x,y)\n",
    "                List.append(store)\n",
    "                trial_dictionary[str(number)] = List\n",
    "                if number%2 == 0:\n",
    "                    dictionary_number[str(number)] = \"even\"\n",
    "                elif number%2 == 1:\n",
    "                    dictionary_number[str(number)]= \"odd\"\n",
    "                if is_prime(x) and is_prime(y):\n",
    "                    prime = (x,y)\n",
    "                    new_List.append(prime)\n",
    "                    dictionary_prime[str(number)] = List_2 \n",
    "                    \n",
    "        number += 1\n",
    "    \n",
    "print(trial_dictionary)\n",
    "print(dictionary_number)\n",
    "print(dictionary_prime)\n"
   ]
  },
  {
   "cell_type": "code",
   "execution_count": null,
   "metadata": {},
   "outputs": [],
   "source": []
  },
  {
   "cell_type": "markdown",
   "metadata": {},
   "source": [
    "#### Exploration 7 <a class=\"anchor\" id=\"exploration-7\"></a> \n",
    "\n",
    "The question to explore is: \n",
    "\n",
    " * _Can the square roots of numbers be written in any other form aside from $x^{2} + 0^{2}$?_\n",
    " \n",
    "In other words, if $n$ is a square, i.e., $\\exists\\, x\\in\\mathbb{Z}$ with $n = x^{2}$, then are there **positive integers** $a, b$ such that $n = a^{2} + b^{2}$?"
   ]
  },
  {
   "cell_type": "markdown",
   "metadata": {},
   "source": [
    "Yes, we can write in other form aside form $x^2 + 0^2$.\n",
    "for instance, $100 = 10 ^2 + 0^2$ and $6^2 + 8^2$"
   ]
  },
  {
   "cell_type": "markdown",
   "metadata": {},
   "source": [
    "#### Exploration 8 <a class=\"anchor\" id=\"exploration-8\"></a> \n",
    "\n",
    "The question to explore is: \n",
    "\n",
    " * _Is there more than one way to write a positive integer $n$ as the sum of two integer squares $a^{2} + b^{2}$, and if they is, what's the relationship between $n$, $a$ and $b$?_"
   ]
  },
  {
   "cell_type": "markdown",
   "metadata": {},
   "source": [
    "Yes there is. The relationship is between them is n always greater than a and b and from a and b the one must be less than the other."
   ]
  },
  {
   "cell_type": "markdown",
   "metadata": {},
   "source": [
    "#### Exploration 9 <a class=\"anchor\" id=\"exploration-9\"></a> \n",
    "\n",
    "The question to explore is: \n",
    "\n",
    " * _Can prime numbers be written as a sum of two squares and if so, do they follow some underlying pattern?_"
   ]
  },
  {
   "cell_type": "code",
   "execution_count": 6,
   "metadata": {},
   "outputs": [
    {
     "name": "stdout",
     "output_type": "stream",
     "text": [
      "8\n",
      "13\n",
      "29\n",
      "53\n",
      "125\n",
      "173\n",
      "293\n",
      "365\n",
      "533\n",
      "845\n",
      "965\n",
      "1373\n",
      "1685\n",
      "1853\n",
      "2213\n",
      "2813\n",
      "3485\n",
      "3725\n",
      "4493\n",
      "5045\n",
      "5333\n",
      "6245\n",
      "6893\n",
      "7925\n",
      "9413\n",
      "13\n",
      "18\n",
      "34\n",
      "58\n",
      "130\n",
      "178\n",
      "298\n",
      "370\n",
      "538\n",
      "850\n",
      "970\n",
      "1378\n",
      "1690\n",
      "1858\n",
      "2218\n",
      "2818\n",
      "3490\n",
      "3730\n",
      "4498\n",
      "5050\n",
      "5338\n",
      "6250\n",
      "6898\n",
      "7930\n",
      "9418\n",
      "29\n",
      "34\n",
      "50\n",
      "74\n",
      "146\n",
      "194\n",
      "314\n",
      "386\n",
      "554\n",
      "866\n",
      "986\n",
      "1394\n",
      "1706\n",
      "1874\n",
      "2234\n",
      "2834\n",
      "3506\n",
      "3746\n",
      "4514\n",
      "5066\n",
      "5354\n",
      "6266\n",
      "6914\n",
      "7946\n",
      "9434\n",
      "53\n",
      "58\n",
      "74\n",
      "98\n",
      "170\n",
      "218\n",
      "338\n",
      "410\n",
      "578\n",
      "890\n",
      "1010\n",
      "1418\n",
      "1730\n",
      "1898\n",
      "2258\n",
      "2858\n",
      "3530\n",
      "3770\n",
      "4538\n",
      "5090\n",
      "5378\n",
      "6290\n",
      "6938\n",
      "7970\n",
      "9458\n",
      "125\n",
      "130\n",
      "146\n",
      "170\n",
      "242\n",
      "290\n",
      "410\n",
      "482\n",
      "650\n",
      "962\n",
      "1082\n",
      "1490\n",
      "1802\n",
      "1970\n",
      "2330\n",
      "2930\n",
      "3602\n",
      "3842\n",
      "4610\n",
      "5162\n",
      "5450\n",
      "6362\n",
      "7010\n",
      "8042\n",
      "9530\n",
      "173\n",
      "178\n",
      "194\n",
      "218\n",
      "290\n",
      "338\n",
      "458\n",
      "530\n",
      "698\n",
      "1010\n",
      "1130\n",
      "1538\n",
      "1850\n",
      "2018\n",
      "2378\n",
      "2978\n",
      "3650\n",
      "3890\n",
      "4658\n",
      "5210\n",
      "5498\n",
      "6410\n",
      "7058\n",
      "8090\n",
      "9578\n",
      "293\n",
      "298\n",
      "314\n",
      "338\n",
      "410\n",
      "458\n",
      "578\n",
      "650\n",
      "818\n",
      "1130\n",
      "1250\n",
      "1658\n",
      "1970\n",
      "2138\n",
      "2498\n",
      "3098\n",
      "3770\n",
      "4010\n",
      "4778\n",
      "5330\n",
      "5618\n",
      "6530\n",
      "7178\n",
      "8210\n",
      "9698\n",
      "365\n",
      "370\n",
      "386\n",
      "410\n",
      "482\n",
      "530\n",
      "650\n",
      "722\n",
      "890\n",
      "1202\n",
      "1322\n",
      "1730\n",
      "2042\n",
      "2210\n",
      "2570\n",
      "3170\n",
      "3842\n",
      "4082\n",
      "4850\n",
      "5402\n",
      "5690\n",
      "6602\n",
      "7250\n",
      "8282\n",
      "9770\n",
      "533\n",
      "538\n",
      "554\n",
      "578\n",
      "650\n",
      "698\n",
      "818\n",
      "890\n",
      "1058\n",
      "1370\n",
      "1490\n",
      "1898\n",
      "2210\n",
      "2378\n",
      "2738\n",
      "3338\n",
      "4010\n",
      "4250\n",
      "5018\n",
      "5570\n",
      "5858\n",
      "6770\n",
      "7418\n",
      "8450\n",
      "9938\n",
      "845\n",
      "850\n",
      "866\n",
      "890\n",
      "962\n",
      "1010\n",
      "1130\n",
      "1202\n",
      "1370\n",
      "1682\n",
      "1802\n",
      "2210\n",
      "2522\n",
      "2690\n",
      "3050\n",
      "3650\n",
      "4322\n",
      "4562\n",
      "5330\n",
      "5882\n",
      "6170\n",
      "7082\n",
      "7730\n",
      "8762\n",
      "10250\n",
      "965\n",
      "970\n",
      "986\n",
      "1010\n",
      "1082\n",
      "1130\n",
      "1250\n",
      "1322\n",
      "1490\n",
      "1802\n",
      "1922\n",
      "2330\n",
      "2642\n",
      "2810\n",
      "3170\n",
      "3770\n",
      "4442\n",
      "4682\n",
      "5450\n",
      "6002\n",
      "6290\n",
      "7202\n",
      "7850\n",
      "8882\n",
      "10370\n",
      "1373\n",
      "1378\n",
      "1394\n",
      "1418\n",
      "1490\n",
      "1538\n",
      "1658\n",
      "1730\n",
      "1898\n",
      "2210\n",
      "2330\n",
      "2738\n",
      "3050\n",
      "3218\n",
      "3578\n",
      "4178\n",
      "4850\n",
      "5090\n",
      "5858\n",
      "6410\n",
      "6698\n",
      "7610\n",
      "8258\n",
      "9290\n",
      "10778\n",
      "1685\n",
      "1690\n",
      "1706\n",
      "1730\n",
      "1802\n",
      "1850\n",
      "1970\n",
      "2042\n",
      "2210\n",
      "2522\n",
      "2642\n",
      "3050\n",
      "3362\n",
      "3530\n",
      "3890\n",
      "4490\n",
      "5162\n",
      "5402\n",
      "6170\n",
      "6722\n",
      "7010\n",
      "7922\n",
      "8570\n",
      "9602\n",
      "11090\n",
      "1853\n",
      "1858\n",
      "1874\n",
      "1898\n",
      "1970\n",
      "2018\n",
      "2138\n",
      "2210\n",
      "2378\n",
      "2690\n",
      "2810\n",
      "3218\n",
      "3530\n",
      "3698\n",
      "4058\n",
      "4658\n",
      "5330\n",
      "5570\n",
      "6338\n",
      "6890\n",
      "7178\n",
      "8090\n",
      "8738\n",
      "9770\n",
      "11258\n",
      "2213\n",
      "2218\n",
      "2234\n",
      "2258\n",
      "2330\n",
      "2378\n",
      "2498\n",
      "2570\n",
      "2738\n",
      "3050\n",
      "3170\n",
      "3578\n",
      "3890\n",
      "4058\n",
      "4418\n",
      "5018\n",
      "5690\n",
      "5930\n",
      "6698\n",
      "7250\n",
      "7538\n",
      "8450\n",
      "9098\n",
      "10130\n",
      "11618\n",
      "2813\n",
      "2818\n",
      "2834\n",
      "2858\n",
      "2930\n",
      "2978\n",
      "3098\n",
      "3170\n",
      "3338\n",
      "3650\n",
      "3770\n",
      "4178\n",
      "4490\n",
      "4658\n",
      "5018\n",
      "5618\n",
      "6290\n",
      "6530\n",
      "7298\n",
      "7850\n",
      "8138\n",
      "9050\n",
      "9698\n",
      "10730\n",
      "12218\n",
      "3485\n",
      "3490\n",
      "3506\n",
      "3530\n",
      "3602\n",
      "3650\n",
      "3770\n",
      "3842\n",
      "4010\n",
      "4322\n",
      "4442\n",
      "4850\n",
      "5162\n",
      "5330\n",
      "5690\n",
      "6290\n",
      "6962\n",
      "7202\n",
      "7970\n",
      "8522\n",
      "8810\n",
      "9722\n",
      "10370\n",
      "11402\n",
      "12890\n",
      "3725\n",
      "3730\n",
      "3746\n",
      "3770\n",
      "3842\n",
      "3890\n",
      "4010\n",
      "4082\n",
      "4250\n",
      "4562\n",
      "4682\n",
      "5090\n",
      "5402\n",
      "5570\n",
      "5930\n",
      "6530\n",
      "7202\n",
      "7442\n",
      "8210\n",
      "8762\n",
      "9050\n",
      "9962\n",
      "10610\n",
      "11642\n",
      "13130\n",
      "4493\n",
      "4498\n",
      "4514\n",
      "4538\n",
      "4610\n",
      "4658\n",
      "4778\n",
      "4850\n",
      "5018\n",
      "5330\n",
      "5450\n",
      "5858\n",
      "6170\n",
      "6338\n",
      "6698\n",
      "7298\n",
      "7970\n",
      "8210\n",
      "8978\n",
      "9530\n",
      "9818\n",
      "10730\n",
      "11378\n",
      "12410\n",
      "13898\n",
      "5045\n",
      "5050\n",
      "5066\n",
      "5090\n",
      "5162\n",
      "5210\n",
      "5330\n",
      "5402\n",
      "5570\n",
      "5882\n",
      "6002\n",
      "6410\n",
      "6722\n",
      "6890\n",
      "7250\n",
      "7850\n",
      "8522\n",
      "8762\n",
      "9530\n",
      "10082\n",
      "10370\n",
      "11282\n",
      "11930\n",
      "12962\n",
      "14450\n",
      "5333\n",
      "5338\n",
      "5354\n",
      "5378\n",
      "5450\n",
      "5498\n",
      "5618\n",
      "5690\n",
      "5858\n",
      "6170\n",
      "6290\n",
      "6698\n",
      "7010\n",
      "7178\n",
      "7538\n",
      "8138\n",
      "8810\n",
      "9050\n",
      "9818\n",
      "10370\n",
      "10658\n",
      "11570\n",
      "12218\n",
      "13250\n",
      "14738\n",
      "6245\n",
      "6250\n",
      "6266\n",
      "6290\n",
      "6362\n",
      "6410\n",
      "6530\n",
      "6602\n",
      "6770\n",
      "7082\n",
      "7202\n",
      "7610\n",
      "7922\n",
      "8090\n",
      "8450\n",
      "9050\n",
      "9722\n",
      "9962\n",
      "10730\n",
      "11282\n",
      "11570\n",
      "12482\n",
      "13130\n",
      "14162\n",
      "15650\n",
      "6893\n",
      "6898\n",
      "6914\n",
      "6938\n",
      "7010\n",
      "7058\n",
      "7178\n",
      "7250\n",
      "7418\n",
      "7730\n",
      "7850\n",
      "8258\n",
      "8570\n",
      "8738\n",
      "9098\n",
      "9698\n",
      "10370\n",
      "10610\n",
      "11378\n",
      "11930\n",
      "12218\n",
      "13130\n",
      "13778\n",
      "14810\n",
      "16298\n",
      "7925\n",
      "7930\n",
      "7946\n",
      "7970\n",
      "8042\n",
      "8090\n",
      "8210\n",
      "8282\n",
      "8450\n",
      "8762\n",
      "8882\n",
      "9290\n",
      "9602\n",
      "9770\n",
      "10130\n",
      "10730\n",
      "11402\n",
      "11642\n",
      "12410\n",
      "12962\n",
      "13250\n",
      "14162\n",
      "14810\n",
      "15842\n",
      "17330\n",
      "9413\n",
      "9418\n",
      "9434\n",
      "9458\n",
      "9530\n",
      "9578\n",
      "9698\n",
      "9770\n",
      "9938\n",
      "10250\n",
      "10370\n",
      "10778\n",
      "11090\n",
      "11258\n",
      "11618\n",
      "12218\n",
      "12890\n",
      "13130\n",
      "13898\n",
      "14450\n",
      "14738\n",
      "15650\n",
      "16298\n",
      "17330\n",
      "18818\n"
     ]
    }
   ],
   "source": [
    "for i in range(100):\n",
    "    for j in range(100):\n",
    "        if is_prime(i) and is_prime(j):\n",
    "            x = i**2 + j**2\n",
    "            print(x)\n",
    "        else:\n",
    "            continue"
   ]
  },
  {
   "cell_type": "markdown",
   "metadata": {},
   "source": [
    "Prime numbers can be written as sum of squares. But the result is not all are prime. "
   ]
  },
  {
   "cell_type": "markdown",
   "metadata": {},
   "source": [
    "### Congruences <a class=\"anchor\" id=\"congruences\"></a> \n",
    "\n",
    "I want to introduce an elementary operation that might be useful in our exploration; namely, modulo arithmetic. You should have seen this before. It has something to do with divisibilty.  \n",
    "\n",
    "To start, let's compute.  What is the remainder of $25$ when divided by $6$?  Do it by hand first."
   ]
  },
  {
   "cell_type": "code",
   "execution_count": null,
   "metadata": {},
   "outputs": [],
   "source": [
    "mod(25, 6)"
   ]
  },
  {
   "cell_type": "markdown",
   "metadata": {},
   "source": [
    "From the division algorithm, we know that such a remainder is unique.  If we divide $x$ by $m$, then $0\\leq {\\rm mod}(x,m)< m$. But lots and lots of different numbers can have the same remainder!"
   ]
  },
  {
   "cell_type": "code",
   "execution_count": null,
   "metadata": {},
   "outputs": [],
   "source": [
    "[mod(num, 6) for num in [1, 7, 13, 19, 25, -5, -11, 6001, -17]]"
   ]
  },
  {
   "cell_type": "markdown",
   "metadata": {},
   "source": [
    "In mathematics, what we often do in such a situation where structure is shared is to connect things with a *relation*.  \n",
    "A relation is a very general notion, and basically it exists once you define it. Our relation will be called **congruence**, denoted by $\\equiv$ and it is massively important. We essentially use the same definitions and notation that Gauss came up with.  \n",
    "\n",
    "\n",
    "**Definition**: We say that $a$ is congruent to $b$ modulo $n$, or $a \\equiv b \\, ({\\rm mod} \\, n)$, precisely if $n\\mid (a−b)$.\n",
    "\n",
    "This is *exactly* the same thing as leaving the same remainder.  It is very useful to try to prove that these conditions are the same.  \n",
    "In our case, saying $25\\equiv 1\\equiv -5$ (mod $6$) is the same as saying $25=4\\cdot 6 +1$ and $1=0\\cdot 6 + 1$ and $-5=-1\\cdot 6+1$.  \n",
    "This idea gives us a *lot* of power.  For instance, calculating $2^{1000000000}$ (mod 3) instantaneous for me - it's $1$.  \n",
    "\n",
    "I can check it with *SageMath*:"
   ]
  },
  {
   "cell_type": "code",
   "execution_count": null,
   "metadata": {},
   "outputs": [],
   "source": [
    "%time mod(2^1000000000,3)"
   ]
  },
  {
   "cell_type": "markdown",
   "metadata": {},
   "source": [
    "Yet I did it instantaneously in my head. Of course, the reason is not that I am clever, but that congruence can be turned into arithmetic! Here are two useful properties:\n",
    "\n",
    "   * If $a\\equiv b$ (mod $m$), then $a+c\\equiv b+c$ (mod $m$).\n",
    "   * If $a\\equiv b$ (mod $m$), then $ac\\equiv bc$ (mod $m$).\n",
    "\n",
    "Now I reveal my secret: $2\\equiv -1$ (mod 3), and $(-1)^{1000000000}=1$, like all even powers of negative one.  Ta-dah!  \n",
    "\n",
    "What I've done is *first* think of the original number as in the congruence, and then taken its power. *SageMath* verifies this approach is much faster, and even for much bigger powers:"
   ]
  },
  {
   "cell_type": "code",
   "execution_count": null,
   "metadata": {},
   "outputs": [],
   "source": [
    "b = mod(2,3); b"
   ]
  },
  {
   "cell_type": "code",
   "execution_count": null,
   "metadata": {},
   "outputs": [],
   "source": [
    "print(type(b))"
   ]
  },
  {
   "cell_type": "code",
   "execution_count": null,
   "metadata": {},
   "outputs": [],
   "source": [
    "%time b^1000000000000000000000000000000"
   ]
  },
  {
   "cell_type": "markdown",
   "metadata": {},
   "source": [
    "What was computed above is not a trick; I definitely couldn't do $2000^{1000}$, or even $16^{1000}$, in my head.  \n",
    "There is another set of properties that congruence has. Congruence is *reflexive, symmetric, and transitive*. That is, all the things you know are true about equality are also true about congruence (with a particular modulus $n$ picked, of course).\n",
    "\n",
    "   * For any $a\\in \\mathbb{Z}$, $a\\equiv a$ (mod $n$).\n",
    "   * If $a\\equiv b$ mod ($n$), then $b\\equiv a$ (mod $n$). \n",
    "   * If it happens that <em>both</em> $a\\equiv b$ and $b\\equiv c$ (mod $n$), then $a\\equiv c$ (mod $n$) as well.\n",
    "   \n",
    "If we combine all of these facts, it basically means we can divide up all the integers into \"**equivalence classes**\". That is, $\\mathbb{Z}$ can be broken up into disjoint pieces which we are free to consider as units, and which stay different.  \n",
    "\n",
    "We denote such a class by the notation \n",
    "\n",
    "$$[a]=\\{\\text{all numbers congruent to }a\\text{ modulo }n\\}\\; .$$  \n",
    "\n",
    "So, for instance, the equivalence class we started with is \n",
    "\n",
    "$$[1]=\\{1, 7, 13, 19, 25, -5, -11, 6001,\\ldots\\}$$ or perhaps better written as $$\\{1+6n\\mid n\\in\\mathbb{Z}\\}=[1]\\; .$$  \n",
    "\n",
    "**Definition**: We call the set of equivalence classes modulo $n$ the *integers modulo n*, and denote them by $\\mathbb{Z}_n$."
   ]
  },
  {
   "cell_type": "code",
   "execution_count": null,
   "metadata": {},
   "outputs": [],
   "source": [
    "%time mod(2^3000000000,7)"
   ]
  },
  {
   "cell_type": "code",
   "execution_count": null,
   "metadata": {},
   "outputs": [],
   "source": [
    "%time mod(2,7)^3000000000"
   ]
  },
  {
   "cell_type": "markdown",
   "metadata": {},
   "source": [
    "I knew this one too.  Figure out why with your group members. \n",
    "\n",
    "* Then spend a while making up more examples of this.</li>\n",
    "* Or, try to figure out how I know that $123456$ is divisible by $3$ but not divisible by $9$, using congruences."
   ]
  },
  {
   "cell_type": "markdown",
   "metadata": {},
   "source": [
    "Now let us use the concept of modulo arithmetic in our exploration. In your groups, try to come up with more questions which uses the modulo operation and explore together. Try and record your findings. \n",
    "\n",
    "Before you query the database `sum_of_square_database` with the questions you have possed as a group, take a look at [Exploration 10](#exploration-10), where I possed a question that makes use of the modulo operation. Explore this a group and record your findings. Afterwards, you should explore the questions that you came up with. Again remember to record your findings."
   ]
  },
  {
   "cell_type": "code",
   "execution_count": null,
   "metadata": {},
   "outputs": [],
   "source": []
  },
  {
   "cell_type": "markdown",
   "metadata": {},
   "source": [
    "#### Exploration 10 <a class=\"anchor\" id=\"exploration-10\"></a> \n",
    "\n",
    "The question to explore is: \n",
    "\n",
    " * _Can even/odd numbers modulo 3, modulo 4, modulo 5, etc., be written as a sum of two squares and if so, do they follow some underlying pattern?_"
   ]
  },
  {
   "cell_type": "code",
   "execution_count": null,
   "metadata": {},
   "outputs": [],
   "source": []
  },
  {
   "cell_type": "code",
   "execution_count": null,
   "metadata": {},
   "outputs": [],
   "source": []
  },
  {
   "cell_type": "code",
   "execution_count": null,
   "metadata": {},
   "outputs": [],
   "source": []
  },
  {
   "cell_type": "code",
   "execution_count": null,
   "metadata": {},
   "outputs": [],
   "source": []
  },
  {
   "cell_type": "code",
   "execution_count": null,
   "metadata": {},
   "outputs": [],
   "source": []
  },
  {
   "cell_type": "code",
   "execution_count": null,
   "metadata": {},
   "outputs": [],
   "source": []
  },
  {
   "cell_type": "code",
   "execution_count": null,
   "metadata": {},
   "outputs": [],
   "source": []
  },
  {
   "cell_type": "code",
   "execution_count": null,
   "metadata": {},
   "outputs": [],
   "source": []
  },
  {
   "cell_type": "code",
   "execution_count": null,
   "metadata": {},
   "outputs": [],
   "source": []
  },
  {
   "cell_type": "code",
   "execution_count": null,
   "metadata": {},
   "outputs": [],
   "source": []
  },
  {
   "cell_type": "code",
   "execution_count": null,
   "metadata": {},
   "outputs": [],
   "source": []
  },
  {
   "cell_type": "markdown",
   "metadata": {},
   "source": []
  },
  {
   "cell_type": "markdown",
   "metadata": {},
   "source": [
    "Can you think of a way to solve this problem? _Hint: What do you know about equations of this form $n = a^{2} + b ^{2}$?_"
   ]
  },
  {
   "cell_type": "code",
   "execution_count": null,
   "metadata": {},
   "outputs": [],
   "source": [
    "var('y')\n",
    "n = 25\n",
    "P = implicit_plot( x^2 + y^2 == n, (x, -sqrt(n), sqrt(n)), (y, -sqrt(n), sqrt(n)) )\n",
    "lattice_pts = [ [i,j] for i in [floor(-sqrt(n))..ceil(sqrt(n))] for j in [floor(-sqrt(n))..ceil(sqrt(n))] ]\n",
    "plot_lattice_pts = points(lattice_pts, rgbcolor = (0, 0, 0), pointsize = 10)\n",
    "P + plot_lattice_pts"
   ]
  },
  {
   "cell_type": "markdown",
   "metadata": {},
   "source": [
    "This brings up the question of how to do such plotting in the first place? We will look at this in more detail in the next [**Section**](#more-plotting-and-graphics-in-two-dimensions)."
   ]
  },
  {
   "cell_type": "markdown",
   "metadata": {},
   "source": [
    "## More Plotting and Graphics in Two Dimensions <a class = \"anchor\" id = \"more-plotting-and-graphics-in-two-dimensions\"></a>\n",
    "There is absolutely no way we could cover all the graphics in _SageMath_ (or the program that does it for _SageMath_, <a href=\"http://matplotlib.org/\" target=\"_blank\">matplotlib</a>) in one day, or even a week. We will look at a bunch of different resources you have access to, and see lots of different plot types. As we go through these resources, think of how they will be of in solving our new experiment or where you could have used them some time back in your academic career. I definitely do not know everything about the plotting command. Nevertheless, you may interrupt me with your question so that we can explore the solution together. \n",
    "\n",
    "   * We will begin with the [advanced 2D-plotting](http://localhost:8891/kernelspecs/sagemath/doc/prep/Advanced-2DPlotting.html) in the built-in live documentation. (This link only works if you are already using _SageMath_; the [non-live version is here](http://www.sagemath.org/doc/prep/Advanced-2DPlotting.html).\n",
    "   * There are two very important pages with many, MANY examples - the documentation for [plot](http://www.sagemath.org/doc/reference/plotting/sage/plot/plot.html) and that for [showing graphics](http://www.sagemath.org/doc/reference/plotting/sage/plot/graphics.html#sage.plot.graphics.Graphics.show).\n",
    "   * The [general plotting reference](http://www.sagemath.org/doc/reference/plotting/index.html) - there are a lot of surprises, like animation, etc.\n",
    "\n",
    "Remember, you should feel free to stop listening for a while if you can want to try something out!  \n",
    "Once we've seen enough examples, please either start using _SageMath_ to explore the sums of squares, _or_ try to recreate your favorite graphic using _SageMath_!"
   ]
  }
 ],
 "metadata": {
  "kernelspec": {
   "display_name": "SageMath 9.2",
   "language": "sage",
   "name": "sagemath"
  },
  "language_info": {
   "codemirror_mode": {
    "name": "ipython",
    "version": 3
   },
   "file_extension": ".py",
   "mimetype": "text/x-python",
   "name": "python",
   "nbconvert_exporter": "python",
   "pygments_lexer": "ipython3",
   "version": "3.9.2"
  },
  "varInspector": {
   "cols": {
    "lenName": 16,
    "lenType": 16,
    "lenVar": 40
   },
   "kernels_config": {
    "python": {
     "delete_cmd_postfix": "",
     "delete_cmd_prefix": "del ",
     "library": "var_list.py",
     "varRefreshCmd": "print(var_dic_list())"
    },
    "r": {
     "delete_cmd_postfix": ") ",
     "delete_cmd_prefix": "rm(",
     "library": "var_list.r",
     "varRefreshCmd": "cat(var_dic_list()) "
    }
   },
   "types_to_exclude": [
    "module",
    "function",
    "builtin_function_or_method",
    "instance",
    "_Feature"
   ],
   "window_display": false
  }
 },
 "nbformat": 4,
 "nbformat_minor": 4
}
