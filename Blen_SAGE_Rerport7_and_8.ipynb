{
 "cells": [
  {
   "cell_type": "markdown",
   "id": "a492117c",
   "metadata": {},
   "source": [
    "# Report 7"
   ]
  },
  {
   "cell_type": "markdown",
   "id": "0dc919fd",
   "metadata": {},
   "source": [
    "# Practical 1"
   ]
  },
  {
   "cell_type": "markdown",
   "id": "editorial-colorado",
   "metadata": {},
   "source": [
    "Solution for 1\n",
    "From Fibonacci sequence $F_{0} = 0$ and $F_{1} = 1$.\n",
    "\n",
    "$F_{2} = F_{1} + F_{0} = 1 + 0 = 1$\n",
    "\n",
    "$F_{3} = F_{2} + F_{1} = 1 + 1 = 2$\n",
    "\n",
    "$F_{4} = F_{3} + F_{2} = 2 + 1 = 3$\n",
    "\n",
    "$F_{5} = F_{4} + F_{3} = 3 + 2 = 5$\n",
    "\n",
    "$F_{6} = F_{5} + F_{4} = 5 + 3 = 8$\n",
    "\n",
    "$F_{7} = F_{6} + F_{5} = 8 + 5 = 13$\n",
    "\n",
    "$F_{8} = F_{7} + F_{6} = 13 + 8 = 21$\n",
    "\n",
    "$F_{9} = F_{8} + F_{7} = 21 + 13 = 34$\n",
    "\n",
    "$F_{10} = F_{9} + F_{8} = 34 + 21 = 55$\n",
    "\n",
    "$F_{11} = F_{10} + F_{9} = 55 + 34 = 89$\n",
    "\n",
    "$F_{12} = F_{11} + F_{10} = 89 +55 = 144$\n",
    "\n",
    "Solution fot 2,a\n",
    "\n",
    "Since $G_{n} = \\phi^{n}$ and $G_{n} = G_{n-1} + G_{n-2}$.\n",
    "\n",
    "Then, $G_{n-1} = \\phi^{n-1}$ and $G_{n-2} = \\phi^{n-2}$.\n",
    "\n",
    "so, $\\phi^{n} = \\phi^{n-1} + \\phi^{n-2}$\n",
    "    \n",
    "$\\phi^{n} = \\frac{\\phi^{n}}{\\phi} + \\frac{\\phi^{n}}{\\phi^{2}}$\n",
    "    \n",
    "$\\phi^{n} = \\phi^{n}(\\frac{1}{\\phi} + \\frac{1}{\\phi^{2}})$ ,divide by $\\phi^{n}$ in both side.\n",
    "\n",
    "$1 = \\frac{1}{\\phi} + \\frac{1}{\\phi^{2}}$\n",
    "\n",
    "$\\frac{1}{\\phi^{2}} + \\frac{1}{\\phi} - 1 = 0$\n",
    "According to this \n"
   ]
  },
  {
   "cell_type": "code",
   "execution_count": null,
   "id": "e48da7dd",
   "metadata": {},
   "outputs": [],
   "source": [
    "phi = var('phi')\n",
    "d = phi**(2) - phi**(1) - 1 # To simplify the phi equation \n",
    "the_equation = d ==0\n",
    "\n",
    "solve([the_equation],phi) # To solve the phi equation\n"
   ]
  },
  {
   "cell_type": "code",
   "execution_count": null,
   "id": "4ede4cc6",
   "metadata": {},
   "outputs": [],
   "source": [
    "var('psi')\n",
    "\n",
    "equation_1 = psi**2-psi==1 # To simplify the psi equation\n",
    "\n",
    "solve([equation_1],psi)"
   ]
  },
  {
   "cell_type": "code",
   "execution_count": null,
   "id": "24248e20",
   "metadata": {},
   "outputs": [],
   "source": []
  },
  {
   "cell_type": "code",
   "execution_count": null,
   "id": "cb86f56e",
   "metadata": {},
   "outputs": [],
   "source": [
    "var('c phi psi')\n",
    "equation_2 = c*(phi**1 - psi**1)==1\n",
    "\n",
    "equation_3 = c*(phi**2 -psi**2)==1\n",
    "\n",
    "equation_4 = phi == -1/2*sqrt(5) + 1/2\n",
    "\n",
    "equation_5 = psi == 1/2*sqrt(5) + 1/2\n",
    "\n",
    "solve([equation_2,equation_3,equation_4,equation_5],c,phi,psi)\n",
    "#To simplify all variable c, phi and phi"
   ]
  },
  {
   "cell_type": "markdown",
   "id": "749ec0c9",
   "metadata": {},
   "source": [
    "# Practical 2"
   ]
  },
  {
   "cell_type": "code",
   "execution_count": null,
   "id": "44bbaa92",
   "metadata": {},
   "outputs": [],
   "source": [
    "def fib_num(n):\n",
    "    if n==0:\n",
    "        return 0\n",
    "    elif n==1:\n",
    "        return 1\n",
    "    else:\n",
    "        return fib_num(n-1) + fib_num(n-2) # Simplify the Fibonacci sequence\n",
    "    "
   ]
  },
  {
   "cell_type": "code",
   "execution_count": null,
   "id": "e6a16aa4",
   "metadata": {},
   "outputs": [],
   "source": [
    "Z = int(input('Enter the number'))\n",
    "for i in range(1,Z+1):\n",
    "    cassini_identity = fib_num(i-1)*fib_num(i+1)-fib_num(i)**2 #To compute the Cassini identity\n",
    "    print('n= ', i,',' , cassini_identity) #To print the Cassini identity"
   ]
  },
  {
   "cell_type": "markdown",
   "id": "smooth-recognition",
   "metadata": {},
   "source": [
    " # prove by induction\n",
    " \n",
    "To proof the Cassini identity using mathematical induction use the Fibonacci sequence. \n",
    "\n",
    "$F_{n+1}F_{n-1} - F_{n}^2 = (-1)^n$\n",
    "\n",
    "From Fibonacci we have $F_{n+1} = F_{n} + F_{n-1}$\n",
    "\n",
    "For $n = m+1$\n",
    "\n",
    "$F_{m+2}F_{m} - F_{m+1}^2 = (F_{m+1} + F_{m})F_{m} - (F_{m} + F_{m-1})^2$\n",
    "\n",
    "  = $F_{m+1}F_{m} +F_{m}^2 - F_{m}^2 - 2F_{m}F_{m-1} - F_{m-1}^2$\n",
    "\n",
    "  = $F_{m+1}F_{m} - 2F_{m}F_{m-1} - F_{m-1}^2$\n",
    "\n",
    "  = $(F_{m} + F_{m-1})F_{m} - 2F_{m}F_{m-1} - F_{m-1}^2$\n",
    "\n",
    "  = $F_{m}^2 + F_{m}F_{m-1} - 2F_{m}F_{m-1} - F_{m-1}^2$\n",
    "\n",
    "  = $F_{m}^2 - F_{m}F_{m-1} - F_{m-1}^2$\n",
    "\n",
    "  = $F_{m}^2 - F_{m-1}(F_{m} + F_{m-1})$\n",
    "\n",
    "From Fibonacci $F_{m} + F_{m-1} = F_{m+1}$\n",
    "\n",
    "  = $F_{m}^2 -  F_{m-1}F_{m+1}$\n",
    "\n",
    "$F_{m}F_{m+1} - F_{m}^2 = (-1)^{m+1}$\n",
    "\n"
   ]
  },
  {
   "cell_type": "code",
   "execution_count": null,
   "id": "a2b9477f",
   "metadata": {},
   "outputs": [],
   "source": []
  },
  {
   "cell_type": "markdown",
   "id": "d1763e36",
   "metadata": {},
   "source": [
    "# Report 8"
   ]
  },
  {
   "cell_type": "markdown",
   "id": "6d735199",
   "metadata": {},
   "source": [
    "# practical 3"
   ]
  },
  {
   "cell_type": "markdown",
   "id": "a27b4b88",
   "metadata": {},
   "source": [
    "$U_{0} = 3/2$        $U_{1} = 5/3$\n",
    "\n",
    "$U_{n} = 1 +  \\dfrac{4(U_{n-2}-1)}{U_{n-1}U_{n-2}}$ for $n \\geq 2 $\n",
    "\n",
    "$U_{2} = 1 +  \\dfrac{4(U_{0}-1)}{U_{1}U_{0}} = 9/5.$\n",
    "\n",
    "$U_{3} = 1 +  \\dfrac{4(U_{1}-1)}{U_{2}U_{1}} = 17/9.$\n",
    "\n",
    "$U_{4} = 1 +  \\dfrac{4(U_{2}-1)}{U_{3}U_{2}} = 33/17.$\n",
    "\n",
    "$U_{5} = 1 +  \\dfrac{4(U_{3}-1)}{U_{4}U_{3}} = 65/33.$\n",
    "\n",
    "$U_{6} = 1 +  \\dfrac{4(U_{4}-1)}{U_{5}U_{4}} = 81/65.$\n",
    "\n",
    "$U_{7} = 1 +  \\dfrac{4(U_{5}-1)}{U_{6}U_{5}} = 161/81.$\n",
    "\n",
    ".\n",
    "\n",
    ".\n",
    "\n",
    ".\n",
    "\n",
    "From this, our conjecture is $U_{n} = \\dfrac {2^{n+1} + 1}{2^{n} + 1}$ for $n \\geq 0.$\n",
    "\n",
    "$U_{n} = 1 +  \\dfrac{4(U_{n-2}-1)}{U_{n-1}U_{n-2}}.$ \n",
    "\n",
    "Proof using Recursion,\n",
    "\n",
    "$U_{n+1} = 1 +  \\dfrac{4(U_{n-1}-1)}{U_{n}U_{n-1}}$ \n",
    "\n",
    "From the conjecture we have \n",
    "\n",
    "$U_{n+1} = \\dfrac {2^{n+2} + 1}{2^{n+1} + 1}$ and $U_{n-1} = \\dfrac {2^{n} + 1}{2^{n-1} + 1}.$\n",
    "\n",
    "Then, using the conjecture,\n",
    "\n",
    "$U_{n+1} = 1 +  \\dfrac{4(U_{n-1}-1)}{U_{n}U_{n-1}}$ \n",
    "\n",
    "$U_{n+1} = 1 +  \\dfrac{4\\dfrac{2^{n} + 1}{2^{n-1} + 1}-1}{\\dfrac{2^{n+1} + 1}{2^{n} + 1}\\dfrac{2^{n} + 1}{2^{n-1} + 1}}$ \n",
    "\n",
    "$U_{n+1} =  1 + \\dfrac{4(2^{n} - 2^{n-1})}{2^{n+1}+1}$\n",
    "\n",
    "$U_{n+1} =  1 + \\dfrac{2^2(2^{n} - 2^{n-1})}{2^{n+1}+1}$\n",
    "\n",
    "$U_{n+1} =  1 + \\dfrac{(2^{n+2} - 2^{n+1})}{2^{n+1}+1}$\n",
    "\n",
    "$U_{n+1} =  \\dfrac{2^{n+1}+1}{2^{n+1}+1}+ \\dfrac{(2^{n+2} - 2^{n+1})}{2^{n+1}+1}$\n",
    "\n",
    "$\\dfrac{2^{n+2} + 1}{2^{n+1}+1}.$\n",
    "\n",
    "$Proved!!!$\n",
    "    \n",
    "Therefore, our conjecture $\\dfrac{2^{n+2} + 1}{2^{n+1}+1}$ is True. "
   ]
  },
  {
   "cell_type": "markdown",
   "id": "coral-medication",
   "metadata": {},
   "source": [
    "#### Exploration 10 <a class=\"anchor\" id=\"exploration-10\"></a> \n",
    "\n",
    "The question to explore is: \n",
    "\n",
    " * _Can even/odd numbers modulo 3, modulo 4, modulo 5, etc., be written as a sum of two squares and if so, do they follow some underlying pattern?_"
   ]
  },
  {
   "cell_type": "code",
   "execution_count": 1,
   "id": "7f0e5344",
   "metadata": {},
   "outputs": [
    {
     "name": "stdout",
     "output_type": "stream",
     "text": [
      "Input an iteger:\n",
      "4\n",
      "Input a divisor:\n",
      "2\n",
      "numbers that are divisible: {'L': [0, 4, 2, 10, 4, 8, 10, 18]}\n",
      "numberss that are not divisible: {'L1': [1, 9, 1, 5, 5, 13, 9, 13]}\n"
     ]
    }
   ],
   "source": [
    "n = int(input('Input an iteger:\\n')) \n",
    "k = int(input('Input a divisor:\\n')) # k is the divisor\n",
    "L = []\n",
    "dicti = {}\n",
    "L1 =[]\n",
    "di = {}\n",
    "L2 = []\n",
    "D2 ={}\n",
    "#f = x**2 + y**2 \n",
    "for x in range(n):\n",
    "    for y in range(n):\n",
    "        f = x**2 + y**2  # f is the sum of squares\n",
    "        L2.append(f)\n",
    "        D2['L2'] = L2\n",
    "\n",
    "        if mod(f,k) == 0:\n",
    "            #print(f,'is divisible by',k)\n",
    "            L.append(f)\n",
    "            dicti['L'] = L\n",
    "        else:\n",
    "            #continue\n",
    "            L1.append(f)\n",
    "            #sorted(L1)\n",
    "            di['L1'] = L1\n",
    "            #print('rem is',mod(f,k))\n",
    "#print('All the sum of squares:',D2)\n",
    "print('numbers that are divisible:',dicti)\n",
    "print('numberss that are not divisible:',di)"
   ]
  },
  {
   "cell_type": "code",
   "execution_count": null,
   "id": "5aba9507",
   "metadata": {},
   "outputs": [],
   "source": []
  },
  {
   "cell_type": "code",
   "execution_count": null,
   "id": "ae6ec5c2",
   "metadata": {},
   "outputs": [],
   "source": []
  },
  {
   "cell_type": "code",
   "execution_count": null,
   "id": "44cef1fd",
   "metadata": {},
   "outputs": [],
   "source": []
  },
  {
   "cell_type": "code",
   "execution_count": null,
   "id": "a507b66b",
   "metadata": {},
   "outputs": [],
   "source": []
  },
  {
   "cell_type": "code",
   "execution_count": null,
   "id": "7ed4754c",
   "metadata": {},
   "outputs": [],
   "source": []
  },
  {
   "cell_type": "code",
   "execution_count": null,
   "id": "f217d3d9",
   "metadata": {},
   "outputs": [],
   "source": []
  },
  {
   "cell_type": "code",
   "execution_count": null,
   "id": "b50b1b4c",
   "metadata": {},
   "outputs": [],
   "source": []
  },
  {
   "cell_type": "code",
   "execution_count": null,
   "id": "2dbd7761",
   "metadata": {},
   "outputs": [],
   "source": []
  }
 ],
 "metadata": {
  "kernelspec": {
   "display_name": "SageMath 9.2",
   "language": "sage",
   "name": "sagemath"
  },
  "language_info": {
   "codemirror_mode": {
    "name": "ipython",
    "version": 3
   },
   "file_extension": ".py",
   "mimetype": "text/x-python",
   "name": "python",
   "nbconvert_exporter": "python",
   "pygments_lexer": "ipython3",
   "version": "3.9.2"
  }
 },
 "nbformat": 4,
 "nbformat_minor": 5
}
